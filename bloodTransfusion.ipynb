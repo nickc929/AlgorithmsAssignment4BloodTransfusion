{
 "cells": [
  {
   "cell_type": "code",
   "execution_count": 5,
   "metadata": {
    "collapsed": true
   },
   "outputs": [],
   "source": [
    "def bloodTransfusion(supplyInput, demandInput):\n",
    "    supply = supplyInput\n",
    "    demand = demandInput\n",
    "    print(\"supply =\", supply)\n",
    "    print(\"demand =\", demand)\n",
    "\n",
    "    # Is there enough type O blood for the type O patients\n",
    "    if supply['O'] - demand['O'] < 0:\n",
    "        supply['O'] -= demand['O']\n",
    "        print(\"Not enough type O blood.\")\n",
    "        if supply['O'] == -1:\n",
    "            print(\"1 more unit of type O blood required.\")\n",
    "        else:\n",
    "            print(abs(supply['O']), \"more units of type O blood required.\")\n",
    "        demand['O'] = abs(supply['O'])\n",
    "        supply['O'] = 0\n",
    "    else:\n",
    "        supply['O'] -= demand['O']\n",
    "        demand['O'] = 0\n",
    "\n",
    "    # Is there enough type A blood or leftover type O blood for the type A patients\n",
    "    if supply['A'] - demand['A'] < 0:\n",
    "        demand['A'] -= supply['A']\n",
    "        supply['A'] = 0\n",
    "        if supply['O'] - demand['A'] < 0:\n",
    "            supply['O'] -= demand['A']\n",
    "            print(\"Not enough type A blood.\")\n",
    "            if supply['O'] == -1:\n",
    "                print(\"1 more unit of type A or O blood required.\")\n",
    "            else:\n",
    "                print(abs(supply['O']), \"more units of type A or O blood required.\")\n",
    "            demand['A'] = abs(supply['O'])\n",
    "            supply['O'] = 0\n",
    "        else:\n",
    "            supply['O'] -= demand['A']\n",
    "            demand['A'] = 0\n",
    "    else:\n",
    "        supply['A'] -= demand['A']\n",
    "        demand['A'] = 0\n",
    "\n",
    "    # Is there enough type B blood or leftover type O blood for the type B patients\n",
    "    if supply['B'] - demand['B'] < 0:\n",
    "        demand['B'] -= supply['B']\n",
    "        supply['B'] = 0\n",
    "        if supply['O'] - demand['B'] < 0:\n",
    "            supply['O'] -= demand['B']\n",
    "            print(\"Not enough type B blood.\")\n",
    "            if supply['O'] == -1:\n",
    "                print(\"1 more unit of type A, B, or O blood required.\")\n",
    "            else:\n",
    "                print(abs(supply['O']), \"more units of type A, B, or O blood required.\")\n",
    "            demand['B'] = abs(supply['O'])\n",
    "            supply['O'] = 0\n",
    "        else:\n",
    "            supply['O'] -= demand['B']\n",
    "            demand['B'] = 0\n",
    "    else:\n",
    "        supply['B'] -= demand['B']\n",
    "        demand['B'] = 0\n",
    "\n",
    "    # Is there enough type A blood or leftover type A, B, or O blood for the type AB patients\n",
    "    if supply['AB'] - demand['AB'] < 0:\n",
    "        demand['AB'] -= supply['AB']\n",
    "        supply['AB'] = 0\n",
    "        if supply['B'] - demand['AB'] < 0:\n",
    "            demand['AB'] -= supply['B']\n",
    "            supply['B'] = 0\n",
    "            if supply['A'] - demand['AB'] < 0:\n",
    "                demand['AB'] -= supply['A']\n",
    "                supply['A'] = 0\n",
    "                if supply['O'] - demand['AB'] < 0:\n",
    "                    supply['O'] -= demand['AB']\n",
    "                    print(\"Not enough type AB blood.\")\n",
    "                    if supply['O'] == -1:\n",
    "                        print(\"1 more unit of type A, B, AB, or O blood required.\")\n",
    "                    else:\n",
    "                        print(abs(supply['O']), \"more units of type A, B, AB, or O blood required.\")\n",
    "                    demand['AB'] = abs(supply['O'])\n",
    "                    supply['O'] = 0\n",
    "            else:\n",
    "                supply['A'] -= demand['AB']\n",
    "                demand['AB'] = 0\n",
    "        else:\n",
    "            supply['B'] -= demand['AB']\n",
    "            demand['AB'] = 0\n",
    "    else:\n",
    "        supply['AB'] -= demand['AB']\n",
    "        demand['AB'] = 0\n",
    "\n",
    "    print(\"Remaining blood supply:\", supply)\n",
    "    print(\"Remaining blood demand:\", demand)\n",
    "    print('')\n",
    "    #return supply, demand\n"
   ]
  },
  {
   "cell_type": "code",
   "execution_count": 6,
   "metadata": {
    "collapsed": false
   },
   "outputs": [
    {
     "name": "stdout",
     "output_type": "stream",
     "text": [
      "supply = {'O': 50, 'A': 36, 'B': 11, 'AB': 8}\n",
      "demand = {'O': 45, 'A': 42, 'B': 8, 'AB': 3}\n",
      "Not enough type A blood.\n",
      "1 more unit of type A or O blood required.\n",
      "Remaining blood supply: {'O': 0, 'A': 0, 'B': 3, 'AB': 5}\n",
      "Remaining blood demand: {'O': 0, 'A': 1, 'B': 0, 'AB': 0}\n",
      "\n"
     ]
    }
   ],
   "source": [
    "supply = {\n",
    "'O'  : 50,\n",
    "'A'  : 36,\n",
    "'B'  : 11,\n",
    "'AB' : 8\n",
    "}\n",
    "\n",
    "demand = {\n",
    "'O'  : 45,\n",
    "'A'  : 42,\n",
    "'B'  : 8,\n",
    "'AB' : 3\n",
    "}\n",
    "\n",
    "bloodTransfusion(supply, demand)"
   ]
  },
  {
   "cell_type": "code",
   "execution_count": 7,
   "metadata": {
    "collapsed": false
   },
   "outputs": [
    {
     "name": "stdout",
     "output_type": "stream",
     "text": [
      "supply = {'O': 40, 'A': 37, 'B': 8, 'AB': 8}\n",
      "demand = {'O': 45, 'A': 37, 'B': 8, 'AB': 30}\n",
      "Not enough type O blood.\n",
      "5 more units of type O blood required.\n",
      "Not enough type AB blood.\n",
      "22 more units of type A, B, AB, or O blood required.\n",
      "Remaining blood supply: {'O': 0, 'A': 0, 'B': 0, 'AB': 0}\n",
      "Remaining blood demand: {'O': 5, 'A': 0, 'B': 0, 'AB': 22}\n",
      "\n"
     ]
    }
   ],
   "source": [
    "bloodTransfusion(supplyInput = {'O'  : 40, 'A'  : 37, 'B'  : 8, 'AB' : 8} ,\n",
    "                 demandInput = {'O'  : 45, 'A'  : 37, 'B'  : 8, 'AB' : 30})"
   ]
  },
  {
   "cell_type": "code",
   "execution_count": 8,
   "metadata": {
    "collapsed": false
   },
   "outputs": [
    {
     "name": "stdout",
     "output_type": "stream",
     "text": [
      "supply = {'O': 50, 'A': 37, 'B': 8, 'AB': 8}\n",
      "demand = {'O': 45, 'A': 39, 'B': 10, 'AB': 5}\n",
      "Remaining blood supply: {'O': 1, 'A': 0, 'B': 0, 'AB': 3}\n",
      "Remaining blood demand: {'O': 0, 'A': 0, 'B': 0, 'AB': 0}\n",
      "\n"
     ]
    }
   ],
   "source": [
    "bloodTransfusion(supplyInput = {'O'  : 50, 'A'  : 37, 'B'  : 8, 'AB' : 8} ,\n",
    "                 demandInput = {'O'  : 45, 'A'  : 39, 'B'  : 10, 'AB' : 5})"
   ]
  }
 ],
 "metadata": {
  "kernelspec": {
   "display_name": "Python 3",
   "language": "python",
   "name": "python3"
  },
  "language_info": {
   "codemirror_mode": {
    "name": "ipython",
    "version": 3
   },
   "file_extension": ".py",
   "mimetype": "text/x-python",
   "name": "python",
   "nbconvert_exporter": "python",
   "pygments_lexer": "ipython3",
   "version": "3.6.0"
  }
 },
 "nbformat": 4,
 "nbformat_minor": 2
}
